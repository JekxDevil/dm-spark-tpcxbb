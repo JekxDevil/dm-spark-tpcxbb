{
 "cells": [
  {
   "cell_type": "markdown",
   "id": "4adb557a-3b01-4e8b-be1d-dafc9b110432",
   "metadata": {},
   "source": [
    "# Apache Spark for complex queries\n",
    "\n",
    "## Data Management Homework 7\n",
    "\n",
    "In this assignment we will use \n",
    "[Apache Spark](https://spark.apache.org/): \n",
    "a popular framework for optimal distributed processing on large amount of data. \n",
    "The objective of is to use Apache Spark to translate and execute some queries of the TPCx-BB bigdata benchmark.  \n",
    "[TPCx-BB](https://www.tpc.org/tpc_documents_current_versions/current_specifications5.asp) \n",
    "or simply \"Big Bench\" is a common benchmark suite to evaluate the system performance on big data analytics and machine learning algorithms. \n",
    "We will focus on big data analytical queries, which are expressed in SQL. \n",
    "\n",
    "Spark is a framework available in multiple languages: Scala, Java, Python, R. In this exercise, we will use Python.\n",
    "\n",
    "## Setup\n",
    "\n",
    "### Jupyter Lab\n",
    "\n",
    "If you are not familiar with the Jupyter Lab environment, check out these resources from the official website: \n",
    "[example notebook](https://jupyter.org/try), \n",
    "[docs](https://jupyterlab.readthedocs.io/en/stable/getting_started/overview.html). \n",
    "\n",
    "Quick reference:\n",
    "- This is a cell. A cell can contain either Markdown text (such as this one) or code. Everything in jupyter notebook is a cell.\n",
    "    - Click on the plus on the top bar to add a new cell\n",
    "    - You can double-click on a text cell to edit iy using Markdown\n",
    "    - You can run a cell by either using the button \"play\" at the top bar or by using the \"shift + enter\" key combination\n",
    "    - Running a code cell executes it\n",
    "    - Running a text cell formats the text\n",
    "- Once you run a cell it stays in memory! So code will be run based on which order you execute cells, even if you execute a cell that is below another one before\n",
    "- General rule #1: try to arrange cell step-by-stop from top to bottom. If anything breaks, try to execute every cell from the top\n",
    "- General rule #2: if you are stuck or a cell is blocked during execution re-run the kernel from the top bar menu\n",
    " \n",
    "### Contents\n",
    "You can navigate through this exercise contents with the file explorer on the left.  \n",
    "The contents are \"extracted\" from the \n",
    "[TPCx-BB](https://www.tpc.org/tpc_documents_current_versions/current_specifications5.asp) \n",
    "benchmark source folder. \n",
    "Please refer to the link if you want to have a broader overview and/or additional information TPCx-BB. \n",
    "Since this exercise differs from the actual benchmark, only a subset of its content are reported here:\n",
    "- `queries/` contains 30 SQL/Spark queries, some of which are to be ported to Spark in this exercise. Every query `qxx/` folder (`xx` = number) contains\n",
    "    - `engineLocalSettings.conf`: TPC related, disregard\n",
    "    - `engineLocalSettings.sql`: TPC related, disregard\n",
    "    - `explain_qxx.sql`: *query content* in \"explanatory\" format\n",
    "    - `qxx.sql`: *query content* in TPC exec format\n",
    "    - `run.sh`: TPC related, disregard\n",
    "    - `results/qxx-result`: contains the expect result in plain-text. You should compare this with your query output (example provided later)\n",
    "- `spark_table_schemas`: contains schema information for every table in the dataset. Not relevant for the implementation\n",
    "- `TPCx-BB-dataset`: contains all the tables in separate folder. Refer to it for table names\n",
    "\n",
    "**Do not modify** `spark_table_schemas` or `TPCx-BB-dataset` contents as it may compromise your solution.\n",
    "\n",
    "### Guidelines\n",
    "You must use the Spark SQL module to solve this exercise. Refer to the official documentation:\n",
    "> Spark SQL: https://spark.apache.org/docs/latest/sql-programming-guide.html\n",
    "\n",
    "We will work with *DataFrames*: a Spark data type used to represent collections of data, including database Tables. \n",
    "You are strongly recommended to refer to the DataFrame API reference within the Spark SQL module during the exercise implementation. \n",
    "There you will find methods, functions and further datatypes which are equivalent to SQL operations. \n",
    "> DataFrame Reference: https://spark.apache.org/docs/latest/api/python/reference/pyspark.sql/dataframe.html\n",
    "The Spark DataFrame API resembles the one of Pandas library.\n",
    " \n",
    "Reference: \n",
    " [PySpark API documentation](https://spark.apache.org/docs/latest/api/python/reference/index.html)\n",
    "\n",
    "#### Reading TCPx-BB queries\n",
    "The SQL queries files (`explain_qxx.sql` and `qxx.sql`) are taken directly from the TPCx-BB benchmark suite \n",
    "and therefore might contain \"extra\" SQL statements and comments, \n",
    "which are functional to the TCPx-BB original benchmark (e.g. `hive` instructions, `EXPLAIN`, etc.). \n",
    "Your goal is to extract and translate the SQL query only, disregarding irrelevant statements/instructions for the purpose of this exercise.  \n",
    "Additionally, queries might contain *template* variables, in the form `${qxx_variable_name}`. \n",
    "You can find all relative templates in the `query/queryParameters.sql` file."
   ]
  },
  {
   "cell_type": "markdown",
   "id": "1f0ec252-f548-457d-b2f8-46f635adcb68",
   "metadata": {},
   "source": [
    "## Environment preparation\n",
    "**Make sure to read through and run the following code cells before starting the exercise** \n",
    "\n",
    "### Install PySpark\n",
    "\n",
    "Setup of python environment done through `pyproject.toml` specifications and \n",
    "[_poetry_](https://python-poetry.org/docs/)\n",
    "on project root directory.\n",
    "Follow `README.md` instructions to install the dependencies in a freshly created virtual environment."
   ]
  },
  {
   "cell_type": "markdown",
   "id": "dd11ca10-844d-4fad-b9ea-180d34bc0d69",
   "metadata": {},
   "source": [
    "### Import PySpark\n",
    "\n",
    "Whenever working with Spark, you need to either start a Spark Session.\n",
    "The Spark Session Builder will handle under-the-hood the architecture of the framework discussed in class \n",
    "and give us an entry point to programming with Spark .\n",
    " "
   ]
  },
  {
   "cell_type": "code",
   "id": "b8f581f6-d3e1-43ef-aab5-47fdfcfc246f",
   "metadata": {},
   "source": [
    "from pyspark.sql import SparkSession\n",
    "from pyspark.sql.functions import *\n",
    "import os\n",
    "\n",
    "# when run locally, spark has one (master) node\n",
    "spark = SparkSession.builder \\\n",
    "        .master(\"local\") \\\n",
    "        .appName(\"Homework 07\") \\\n",
    "        .getOrCreate()\n",
    "\n",
    "spark"
   ],
   "outputs": [],
   "execution_count": null
  },
  {
   "metadata": {},
   "cell_type": "markdown",
   "source": [
    "# PySpark Dataframes\n",
    "\n",
    "Dataframes are a data structure for data manipulation.\n",
    "A Dataframe is represented as a 2-dimensional labeled data structure with columns of potentially different types.\n",
    "Similar to what a spreadsheet or SQL table looks like.\n",
    "Most functionality and API of \n",
    "[Pandas](https://pandas.pydata.org/docs/)\n",
    "data analysis library is proposed in PySpark with support for distributed collections of data.\n",
    "\n",
    "To start, let's see how to create a dataframe, visualize the data in it and retrieve its basic properties."
   ],
   "id": "b7fd0421420b3539"
  },
  {
   "cell_type": "code",
   "id": "9582f10568cf2464",
   "metadata": {
    "ExecuteTime": {
     "end_time": "2024-04-24T06:54:43.726191Z",
     "start_time": "2024-04-24T06:54:43.014113Z"
    }
   },
   "source": [
    "# Creating a DataFrame from scratch\n",
    "df = spark.createDataFrame(data=[\n",
    "    (1, \"Alice\", 34),\n",
    "    (2, \"Bob\", 45),\n",
    "    (3, \"Charlie\", 56)\n",
    "], schema=[\"id\", \"name\", \"age\"])\n",
    "\n",
    "# visualize dataframe representation \n",
    "df.show() # by default shows first 20 rows"
   ],
   "outputs": [
    {
     "name": "stdout",
     "output_type": "stream",
     "text": [
      "+---+-------+---+\n",
      "| id|   name|age|\n",
      "+---+-------+---+\n",
      "|  1|  Alice| 34|\n",
      "|  2|    Bob| 45|\n",
      "|  3|Charlie| 56|\n",
      "+---+-------+---+\n",
      "\n"
     ]
    }
   ],
   "execution_count": 43
  },
  {
   "metadata": {
    "ExecuteTime": {
     "end_time": "2024-04-24T07:17:20.530863Z",
     "start_time": "2024-04-24T07:17:20.385247Z"
    }
   },
   "cell_type": "code",
   "source": [
    "# some useful methods to explore the table in dataframe\n",
    "print(f'Type: {type(df)}',    # PySpark Dataframe is not equal to Pandas Dataframe !\n",
    "      f'First top n=2 rows: {df.head(2)}', # rows returned in a list\n",
    "      f'Column title names: {df.columns}',\n",
    "      f'Column title names with its types: {df.dtypes}',\n",
    "      f'Selecting a column: {df.select(\"name\")}', # it's still a DataFrame\n",
    "      f'Avoid pandas notation (less features): {df[\"name\"]}', # Column object with lesser features than PySpark DataFrame\n",
    "      f'Selecting more than one columns: {df.select([\"name\", \"age\"])}', # it's still a DataFrame\n",
    "      sep='\\n\\n')"
   ],
   "id": "ee67517ffd6895a7",
   "outputs": [
    {
     "name": "stdout",
     "output_type": "stream",
     "text": [
      "Type: <class 'pyspark.sql.dataframe.DataFrame'>\n",
      "\n",
      "First top n=2 rows: [Row(id=1, name='Alice', age=34), Row(id=2, name='Bob', age=45)]\n",
      "\n",
      "Column title names: ['id', 'name', 'age']\n",
      "\n",
      "Column title names with its types: [('id', 'bigint'), ('name', 'string'), ('age', 'bigint')]\n",
      "\n",
      "Selecting a column: DataFrame[name: string]\n",
      "\n",
      "Avoid pandas notation (less features): Column<'name'>\n",
      "\n",
      "Selecting more than one columns: DataFrame[name: string, age: bigint]\n"
     ]
    }
   ],
   "execution_count": 50
  },
  {
   "metadata": {
    "ExecuteTime": {
     "end_time": "2024-04-24T07:17:26.023917Z",
     "start_time": "2024-04-24T07:17:25.904244Z"
    }
   },
   "cell_type": "code",
   "source": [
    "# print the values of the selected columns\n",
    "df.select([\"name\", \"age\"]).show()"
   ],
   "id": "c5c57180354ea198",
   "outputs": [
    {
     "name": "stdout",
     "output_type": "stream",
     "text": [
      "+-------+---+\n",
      "|   name|age|\n",
      "+-------+---+\n",
      "|  Alice| 34|\n",
      "|    Bob| 45|\n",
      "|Charlie| 56|\n",
      "+-------+---+\n",
      "\n"
     ]
    }
   ],
   "execution_count": 51
  },
  {
   "metadata": {
    "ExecuteTime": {
     "end_time": "2024-04-24T07:17:29.403747Z",
     "start_time": "2024-04-24T07:17:29.178260Z"
    }
   },
   "cell_type": "code",
   "source": [
    "# get statistics retrieved from a dataframe, computationally expensive, similar to Pandas\n",
    "df.describe().show()"
   ],
   "id": "813b52ec9217b5c0",
   "outputs": [
    {
     "name": "stdout",
     "output_type": "stream",
     "text": [
      "+-------+---+-------+----+\n",
      "|summary| id|   name| age|\n",
      "+-------+---+-------+----+\n",
      "|  count|  3|      3|   3|\n",
      "|   mean|2.0|   NULL|45.0|\n",
      "| stddev|1.0|   NULL|11.0|\n",
      "|    min|  1|  Alice|  34|\n",
      "|    max|  3|Charlie|  56|\n",
      "+-------+---+-------+----+\n",
      "\n"
     ]
    }
   ],
   "execution_count": 52
  },
  {
   "cell_type": "markdown",
   "id": "658ade0815720afb",
   "metadata": {},
   "source": [
    "## Column operations on DataFrame\n",
    "\n",
    "The columns operations generate a new DataFrame that need to be stored in a variable to be saved.\n",
    "It does not change the original DataFrame, but creates a new modified one from it.\n",
    "\n",
    "Operations on column:\n",
    "- creation\n",
    "- renaming\n",
    "- deletion"
   ]
  },
  {
   "cell_type": "code",
   "id": "ea339233ec757bee",
   "metadata": {},
   "source": [
    "# add a column where age is increase +2\n",
    "df_col_added = df.withColumn(colName=\"age in 2 years\", col=col(\"age\") + 2)\n",
    "df_col_added.show()"
   ],
   "outputs": [],
   "execution_count": null
  },
  {
   "cell_type": "code",
   "id": "b25db971e45320b4",
   "metadata": {},
   "source": [
    "# remove the 'id' column \n",
    "df_col_removed = df_col_added.drop(\"id\")\n",
    "df_col_removed.show()"
   ],
   "outputs": [],
   "execution_count": null
  },
  {
   "cell_type": "code",
   "id": "1255306cbfe88d70",
   "metadata": {},
   "source": [
    "# rename the 'name' column\n",
    "df_col_renamed = df_col_removed.withColumnRenamed(existing=\"name\", new=\"name_column_renamed\")\n",
    "df_col_renamed.show()"
   ],
   "outputs": [],
   "execution_count": null
  },
  {
   "cell_type": "markdown",
   "id": "8682823d6eeea4e8",
   "metadata": {},
   "source": [
    "## Row operations on DataFrame\n",
    "\n",
    "The result from this operations need to be saved in a new variable since it does not change the original dataframe. \n",
    "Same logic as column operations.\n",
    "\n",
    "Operations on rows:\n",
    "- creation\n",
    "- update\n",
    "- deletion\n",
    "\n",
    "Examples provided within the context of handling null missing values in dataframe records."
   ]
  },
  {
   "cell_type": "code",
   "id": "4646dadfd45adc7d",
   "metadata": {
    "ExecuteTime": {
     "end_time": "2024-04-24T00:58:59.413906Z",
     "start_time": "2024-04-24T00:58:59.289055Z"
    }
   },
   "source": [
    "# update a row setting a null value\n",
    "df_null = df.withColumn(colName= \"age\", \n",
    "                        col= when(col(\"age\") > 50, None).otherwise(col(\"age\")))\n",
    "df_null.show()"
   ],
   "outputs": [
    {
     "name": "stdout",
     "output_type": "stream",
     "text": [
      "+---+-------+----+\n",
      "| id|   name| age|\n",
      "+---+-------+----+\n",
      "|  1|  Alice|  34|\n",
      "|  2|    Bob|  45|\n",
      "|  3|Charlie|NULL|\n",
      "+---+-------+----+\n",
      "\n"
     ]
    }
   ],
   "execution_count": 38
  },
  {
   "metadata": {},
   "cell_type": "markdown",
   "source": [
    "Missing values are generally referred as `NA`, which is a sentinel value.\n",
    "Further explanation in \n",
    "[pandas](https://pandas.pydata.org/docs/user_guide/missing_data.html#missing-data),\n",
    "[pyspark](https://spark.apache.org/docs/3.1.1/api/python/reference/api/pyspark.sql.DataFrame.na.html?highlight=na#pyspark.sql.DataFrame.na)\n",
    "specific docs."
   ],
   "id": "e7c91faf68879bbf"
  },
  {
   "metadata": {
    "ExecuteTime": {
     "end_time": "2024-04-24T00:59:03.021635Z",
     "start_time": "2024-04-24T00:59:02.917413Z"
    }
   },
   "cell_type": "code",
   "source": [
    "# remove rows with null values in field attributes\n",
    "df_without_null_rows = df_null.dropna()\n",
    "# same as df_null.na.drop(), df_null.dropna(how='any'), df_null.na.drop(how='any')\n",
    "df_without_null_rows.show()"
   ],
   "id": "f2e3b59ac4d511d0",
   "outputs": [
    {
     "name": "stdout",
     "output_type": "stream",
     "text": [
      "+---+-----+---+\n",
      "| id| name|age|\n",
      "+---+-----+---+\n",
      "|  1|Alice| 34|\n",
      "|  2|  Bob| 45|\n",
      "+---+-----+---+\n",
      "\n"
     ]
    }
   ],
   "execution_count": 39
  },
  {
   "metadata": {
    "ExecuteTime": {
     "end_time": "2024-04-24T00:59:39.700962Z",
     "start_time": "2024-04-24T00:59:39.496537Z"
    }
   },
   "cell_type": "code",
   "source": [
    "# add a row to dataframe with all null fields in record\n",
    "df_null_whole_record = df_null.union(spark.createDataFrame([(None, None, None)], schema=df_null.schema))\n",
    "df_null_whole_record.show()"
   ],
   "id": "c80fc75ea0efddde",
   "outputs": [
    {
     "name": "stdout",
     "output_type": "stream",
     "text": [
      "+----+-------+----+\n",
      "|  id|   name| age|\n",
      "+----+-------+----+\n",
      "|   1|  Alice|  34|\n",
      "|   2|    Bob|  45|\n",
      "|   3|Charlie|NULL|\n",
      "|NULL|   NULL|NULL|\n",
      "+----+-------+----+\n",
      "\n"
     ]
    }
   ],
   "execution_count": 41
  },
  {
   "metadata": {
    "ExecuteTime": {
     "end_time": "2024-04-24T00:59:49.829509Z",
     "start_time": "2024-04-24T00:59:49.636301Z"
    }
   },
   "cell_type": "code",
   "source": [
    "# remove rows if whole record have null field attributes\n",
    "df_null_without_null_rows = df_null_whole_record.na.drop(how='all')\n",
    "df_null_without_null_rows.show()"
   ],
   "id": "391a2fdffae8ce2",
   "outputs": [
    {
     "name": "stdout",
     "output_type": "stream",
     "text": [
      "+---+-------+----+\n",
      "| id|   name| age|\n",
      "+---+-------+----+\n",
      "|  1|  Alice|  34|\n",
      "|  2|    Bob|  45|\n",
      "|  3|Charlie|NULL|\n",
      "+---+-------+----+\n",
      "\n"
     ]
    }
   ],
   "execution_count": 42
  },
  {
   "metadata": {},
   "cell_type": "markdown",
   "source": "### Define Helper Function",
   "id": "87f6aff9-3027-4c1f-af23-de85a737a5c9"
  },
  {
   "metadata": {},
   "cell_type": "code",
   "source": [
    "def get_table_old(name):\n",
    "    \"\"\"\n",
    "    Load a table from the TPCx-BB dataset.\n",
    "    The dataframe is read from the Parquet format, \n",
    "    which is a columnar storage format ideal for efficient storage and retrieval of data\n",
    "    :param name: name of the table \n",
    "    :return: a Spark DataFrame of the table\n",
    "    \"\"\"\n",
    "    df = spark.read.parquet(f\"TPCx-BB-dataset/{name}.ptxt\")\n",
    "    f = open(f\"spark_table_schemas/{name}.schema\",\"r\")\n",
    "    lines = f.readlines()\n",
    "    for line in lines:\n",
    "        l = line.split()\n",
    "        if len(l) > 2:\n",
    "            df.schema[l[0]].nullable = False\n",
    "\n",
    "    return df\n",
    "\n",
    "get_table = lambda x : spark.read.option('header', 'true').parquet(f'TPCx-BB-dataset/{x}.ptxt')"
   ],
   "id": "d555d417-51bb-4d91-a7a0-5013581ef199",
   "outputs": [],
   "execution_count": null
  },
  {
   "metadata": {},
   "cell_type": "markdown",
   "source": [
    "### Explore the dataset\n",
    "\n",
    "You can use `get_table` to load current dataset tables. A table in Spark is stored as a *DataFrame* - see reference in the exercise intro."
   ],
   "id": "2b2cc9a0-c568-4a2d-822f-f9e60b67d819"
  },
  {
   "metadata": {},
   "cell_type": "code",
   "source": [
    "# load the current table \n",
    "customer = get_table(\"customer\")\n",
    "customer.show() "
   ],
   "id": "2a1950967067b488",
   "outputs": [],
   "execution_count": null
  },
  {
   "metadata": {},
   "cell_type": "code",
   "source": [
    "# show the 1st row of the customer table\n",
    "customer.show(1) "
   ],
   "id": "4c673e93-8be4-493b-974c-dc75aa7533c7",
   "outputs": [],
   "execution_count": null
  },
  {
   "metadata": {},
   "cell_type": "code",
   "source": [
    "# display the table schema, which is Spark is a set of [column, type, nullable]\n",
    "customer.schema "
   ],
   "id": "281d2927-53f1-4c79-9880-fe7443096385",
   "outputs": [],
   "execution_count": null
  },
  {
   "metadata": {},
   "cell_type": "code",
   "source": [
    "# or for a nice pretty print tree view of it\n",
    "customer.printSchema()"
   ],
   "id": "537c963f86dd70ca",
   "outputs": [],
   "execution_count": null
  },
  {
   "metadata": {},
   "cell_type": "markdown",
   "source": [
    "## Sample query translation\n",
    "Refer to `queries/q00/explain_q00.sql`. The code below is a valid translation of that query using SparkSQL. You can use any methods in the Spark SQL DataFrame class to implement your solution."
   ],
   "id": "cf42daac-7ec5-4a12-b02d-c228dcef9940"
  },
  {
   "cell_type": "markdown",
   "id": "b893fb04-c08c-4773-962f-413d08788d34",
   "metadata": {},
   "source": [
    "### Query 0\n",
    "Find the amount of items sold by their category.  \n",
    "Only in certain categories sold in specific stores are considered,\n"
   ]
  },
  {
   "cell_type": "code",
   "id": "5c0de66c-e2bb-4369-a2ed-efbe483764d4",
   "metadata": {
    "collapsed": true,
    "jupyter": {
     "outputs_hidden": true
    },
    "ExecuteTime": {
     "end_time": "2024-04-24T10:26:41.033722Z",
     "start_time": "2024-04-24T10:26:40.579560Z"
    }
   },
   "source": [
    "# look in TCPx-BB-dataset to check all the available tables.\n",
    "# gather tables needed\n",
    "s = get_table(\"store_sales\")\n",
    "i = get_table(\"item\")\n",
    "\n",
    "query0_solution = s.join(i, s.ss_item_sk == i.i_item_sk) \\\n",
    "                .filter(i.i_category_id < 3) \\\n",
    "                .filter(s.ss_store_sk.isin([10, 20, 33, 40, 50])) \\\n",
    "                .groupBy(i.i_category) \\\n",
    "                .count()\n",
    "\n",
    "query0_solution.show()      "
   ],
   "outputs": [
    {
     "name": "stdout",
     "output_type": "stream",
     "text": [
      "+--------------+-----+\n",
      "|    i_category|count|\n",
      "+--------------+-----+\n",
      "|Home & Kitchen| 1975|\n",
      "|         Music|25060|\n",
      "+--------------+-----+\n",
      "\n"
     ]
    }
   ],
   "execution_count": 58
  },
  {
   "cell_type": "markdown",
   "id": "57618142-e6a2-4578-8b01-99cd4f6fffae",
   "metadata": {},
   "source": [
    "The cell below is a shortcut to display the results file of q00 without navigating to the file.  \n",
    "The `!` symbol followed by a bash command (`cat` in this case) can be used as in-cell access to the terminal "
   ]
  },
  {
   "cell_type": "code",
   "id": "028cbc53-1875-41e2-a94e-f1fd9f81022d",
   "metadata": {
    "collapsed": true,
    "jupyter": {
     "outputs_hidden": true
    }
   },
   "source": [
    "## check the result\n",
    "!cat queries/q00/results/q00-result"
   ],
   "outputs": [],
   "execution_count": null
  },
  {
   "cell_type": "markdown",
   "id": "7864b593-0936-453d-8e47-0ac2300288dd",
   "metadata": {},
   "source": [
    "## [YOUR SOLUTION BELOW]\n",
    "Write the query description in a Markdown cell, followed by a code cell with the query implementation.  \n",
    "Query descriptions can be found in the TCPx-BB specification, page 93: https://www.tpc.org/tpc_documents_current_versions/current_specifications5.asp\n",
    "\n",
    "You should implement all the queries assigned in the homework sheet."
   ]
  },
  {
   "cell_type": "markdown",
   "id": "d45aecb8-e4dd-4676-a469-0a82ee34bbfe",
   "metadata": {},
   "source": [
    "### Query X\n",
    "description"
   ]
  },
  {
   "cell_type": "code",
   "id": "6d3e2faf-51c6-4484-b66c-1abe42049b8e",
   "metadata": {
    "collapsed": true,
    "jupyter": {
     "outputs_hidden": true
    }
   },
   "source": "# implementation",
   "outputs": [],
   "execution_count": null
  },
  {
   "cell_type": "code",
   "id": "5bb26ea2-e6f1-4a41-8d9d-40a76a80d3a6",
   "metadata": {
    "collapsed": true,
    "jupyter": {
     "outputs_hidden": true
    }
   },
   "source": [
    "# check the result"
   ],
   "outputs": [],
   "execution_count": null
  }
 ],
 "metadata": {
  "kernelspec": {
   "display_name": "Python 3 (ipykernel)",
   "language": "python",
   "name": "python3"
  },
  "language_info": {
   "codemirror_mode": {
    "name": "ipython",
    "version": 3
   },
   "file_extension": ".py",
   "mimetype": "text/x-python",
   "name": "python",
   "nbconvert_exporter": "python",
   "pygments_lexer": "ipython3",
   "version": "3.10.12"
  }
 },
 "nbformat": 4,
 "nbformat_minor": 5
}
